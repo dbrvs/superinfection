{
 "cells": [
  {
   "cell_type": "code",
   "execution_count": 40,
   "metadata": {
    "collapsed": false
   },
   "outputs": [],
   "source": [
    "%matplotlib inline  \n",
    "\n",
    "import numpy as np\n",
    "import math as m\n",
    "\n",
    "import matplotlib.pyplot as plt\n",
    "from matplotlib import cm\n",
    "import matplotlib.colors as mcolors\n"
   ]
  },
  {
   "cell_type": "code",
   "execution_count": 63,
   "metadata": {
    "collapsed": true
   },
   "outputs": [],
   "source": [
    "#function to compute the ZTP distribution\n",
    "def ztp(r,lam): \n",
    "    if r>0:\n",
    "        p_ztp=lam**r/(np.exp(lam)-1)/m.factorial(r)\n",
    "    else:\n",
    "        p_ztp=0\n",
    "    return p_ztp\n",
    "\n",
    "#the mean of the ztp distribution\n",
    "def ztp_avg(lam):\n",
    "    return lam/(1-np.exp(-lam))\n"
   ]
  },
  {
   "cell_type": "code",
   "execution_count": 67,
   "metadata": {
    "collapsed": false
   },
   "outputs": [
    {
     "data": {
      "text/plain": [
       "[<matplotlib.lines.Line2D at 0x106a73d68>]"
      ]
     },
     "execution_count": 67,
     "metadata": {},
     "output_type": "execute_result"
    },
    {
     "data": {
      "image/png": "[encoded data removed]",
      "text/plain": [
       "<matplotlib.figure.Figure at 0x106a738d0>"
      ]
     },
     "metadata": {},
     "output_type": "display_data"
    }
   ],
   "source": [
    "#check the relationship between lambda and average\n",
    "plt.plot(lam_list,ztp_avg(lam_list))\n",
    "plt.plot(lam_list,lam_list,ls='--')"
   ]
  },
  {
   "cell_type": "code",
   "execution_count": 42,
   "metadata": {
    "collapsed": false
   },
   "outputs": [
    {
     "name": "stdout",
     "output_type": "stream",
     "text": [
      "average =  3.15718708947\n"
     ]
    },
    {
     "data": {
      "image/png": "[encoded data removed]",
      "text/plain": [
       "<matplotlib.figure.Figure at 0x1051aee48>"
      ]
     },
     "metadata": {},
     "output_type": "display_data"
    }
   ],
   "source": [
    "#explore ZTP\n",
    "\n",
    "r=np.arange(1,10)\n",
    "lam=3\n",
    "\n",
    "p_ztp=[]\n",
    "for R in r:\n",
    "    p_ztp.append(ztp(R,lam))\n",
    "\n",
    "plt.plot(r,p_ztp)\n",
    "plt.xlabel('$R$')\n",
    "plt.ylabel('$\\mathcal{Z}(\\lambda,R)$')\n",
    "plt.title('$\\lambda=$'+str(lam))\n",
    "print('average = ',ztp_avg(lam))"
   ]
  },
  {
   "cell_type": "code",
   "execution_count": 43,
   "metadata": {
    "collapsed": true
   },
   "outputs": [],
   "source": [
    "#Calculating the multiplicity of multinomial combinations\n",
    "#the number of words  found in the expansion (p1+p2+p3+...R)^n that have exactly k components. \n",
    "def p_Robs(n,R):\n",
    "    g_k = np.zeros(R) #make an array to hold the probabilities of exactly k strains, where k\\le R\n",
    "    #k needs to run from 1->R, p_{k=0} = 0\n",
    "    for k in range(1,R+1,1):\n",
    "        inc_exc = 0.0 #include exclude factor\n",
    "        #i runs from 0 to k-1\n",
    "        for i in range(k):\n",
    "            #print(inc_exc)\n",
    "            inc_exc += m.factorial(k)/m.factorial(k-i)/m.factorial(i)*(-1)**i*(k-i)**n     \n",
    "        g_k[k-1] = m.factorial(R)/m.factorial(k)/m.factorial(R-k)*inc_exc\n",
    "    return g_k/R**n\n",
    "\n",
    "#calculates the conditional probability p(Robs|n,R)p(R) for many hosts\n",
    "def dist_product(n,R_list,lam):\n",
    "    p_combo=np.zeros([len(R_list),len(R_list)]) #matrix of zeros for conditional prob\n",
    "    for i in range(len(R_list)):\n",
    "        R=R_list[i]\n",
    "        pp=p_Robs(n,R)*ztp(R,lam)\n",
    "        p_combo[i,0:len(pp)]=pp #fill up this matrix\n",
    "\n",
    "    return p_combo\n"
   ]
  },
  {
   "cell_type": "code",
   "execution_count": 44,
   "metadata": {
    "collapsed": false
   },
   "outputs": [
    {
     "name": "stderr",
     "output_type": "stream",
     "text": [
      "/Users/danielreeves/anaconda/lib/python3.5/site-packages/ipykernel/__main__.py:7: RuntimeWarning: divide by zero encountered in log10\n"
     ]
    },
    {
     "data": {
      "image/png": "[encoded data removed]",
      "text/plain": [
       "<matplotlib.figure.Figure at 0x1032cfd68>"
      ]
     },
     "metadata": {},
     "output_type": "display_data"
    }
   ],
   "source": [
    "#visualize p(R,Robs), e.g. can't measure more strains than underlying, or more than n\n",
    "n=5\n",
    "R_list=np.arange(1,10)\n",
    "lam=1\n",
    "\n",
    "p_combo=dist_product(n,R_list,lam)\n",
    "plt.imshow(np.log10(p_combo),interpolation='none')\n",
    "plt.axvline(n-1,color='k',ls='--')\n",
    "plt.annotate('n='+str(n),[n-0.5,1])\n",
    "cbar=plt.colorbar()\n",
    "plt.xticks(np.arange(10),np.arange(1,10))\n",
    "plt.yticks(np.arange(10),np.arange(1,10))\n",
    "plt.ylabel('$R$')\n",
    "plt.xlabel('$R^{obs}$')\n",
    "\n",
    "cbar.set_label('$\\log_{10} \\, p(R,R^{obs})$')#, rotation=270)\n"
   ]
  },
  {
   "cell_type": "code",
   "execution_count": 45,
   "metadata": {
    "collapsed": false
   },
   "outputs": [
    {
     "data": {
      "text/plain": [
       "array([  6.01464120e-01,   3.13505680e-01,   7.67624260e-02,\n",
       "         7.98583843e-03,   2.81759497e-04,   0.00000000e+00,\n",
       "         0.00000000e+00,   0.00000000e+00,   0.00000000e+00])"
      ]
     },
     "execution_count": 45,
     "metadata": {},
     "output_type": "execute_result"
    }
   ],
   "source": [
    "sum(p_combo)"
   ]
  },
  {
   "cell_type": "code",
   "execution_count": 46,
   "metadata": {
    "collapsed": false
   },
   "outputs": [
    {
     "data": {
      "image/png": "[encoded data removed]",
      "text/plain": [
       "<matplotlib.figure.Figure at 0x107393160>"
      ]
     },
     "metadata": {},
     "output_type": "display_data"
    }
   ],
   "source": [
    "#compute the conditional probability\n",
    "R_list=np.arange(1,10)\n",
    "n=10\n",
    "lam=3\n",
    "C=dist_product(n,R_list,lam)\n",
    "\n",
    "#this is a dumb check, get back the ZTP\n",
    "p_ztp=[]\n",
    "for R in R_list:\n",
    "    p_ztp.append(ztp(R,lam))\n",
    "\n",
    "plt.subplot(121)\n",
    "pR=np.sum(C,1)\n",
    "plt.plot(R_list,pR,alpha=0.2,lw=3)\n",
    "plt.plot(R_list,p_ztp,ls='--')\n",
    "plt.xlabel('$R^{obs}$')\n",
    "plt.ylabel('$p(R)=\\mathcal{Z}(R)=\\sum_{R^{obs}}p(R^{obs},R)$')\n",
    "plt.title('$\\lambda=$'+str(lam)+', $n=$' + str(n))\n",
    "plt.ylim([0,0.3])\n",
    "\n",
    "#and the other probability p(Robs)\n",
    "pRobs=np.sum(C,0)\n",
    "plt.subplot(122)\n",
    "plt.plot(r,pRobs)\n",
    "plt.xlabel('$R^{obs}$')\n",
    "plt.ylabel('$p(R^{obs})=\\sum_{R}p(R^{obs},R)$')\n",
    "plt.title('$\\lambda=$'+str(lam)+', $n=$' + str(n))\n",
    "plt.ylim([0,0.3])\n",
    "\n",
    "plt.tight_layout()"
   ]
  },
  {
   "cell_type": "code",
   "execution_count": 47,
   "metadata": {
    "collapsed": false
   },
   "outputs": [
    {
     "data": {
      "text/plain": [
       "0.9988397462364339"
      ]
     },
     "execution_count": 47,
     "metadata": {},
     "output_type": "execute_result"
    }
   ],
   "source": [
    "#can check the normalization of p(Robs)\n",
    "np.sum(pRobs)"
   ]
  },
  {
   "cell_type": "code",
   "execution_count": 48,
   "metadata": {
    "collapsed": false
   },
   "outputs": [
    {
     "name": "stderr",
     "output_type": "stream",
     "text": [
      "/Users/danielreeves/anaconda/lib/python3.5/site-packages/ipykernel/__main__.py:4: RuntimeWarning: divide by zero encountered in log10\n"
     ]
    },
    {
     "data": {
      "image/png": "[encoded data removed]",
      "text/plain": [
       "<matplotlib.figure.Figure at 0x106f930f0>"
      ]
     },
     "metadata": {},
     "output_type": "display_data"
    }
   ],
   "source": [
    "#and the conditional distribution we want is p(R|Robs)=C(R,Robs)/\\sum_Robs C(R,Robs), visualize that!\n",
    "pf=C/np.sum(C,1)\n",
    "\n",
    "plt.imshow(np.log10(pf),interpolation='none')\n",
    "cbar=plt.colorbar()\n",
    "plt.xticks(np.arange(10),np.arange(1,10))\n",
    "plt.yticks(np.arange(10),np.arange(1,10))\n",
    "plt.ylabel('$R$',fontsize=14)\n",
    "plt.xlabel('$R^{obs}$',fontsize=14)\n",
    "plt.ylim([8.5,-0.5])\n",
    "plt.xlim([-0.5,8.5])\n",
    "\n",
    "cbar.set_label('$\\log_{10} \\, p(R|R^{obs})$',fontsize=14)#, rotation=270)\n",
    "cbar.set_ticks(np.linspace(-10,0,11))\n",
    "#note that this means the columns don't actually add to 1\n",
    "#because there is still the probability that Robs was found even though R>>Robs\n",
    "#this is most obvious for Robs=9"
   ]
  },
  {
   "cell_type": "code",
   "execution_count": 49,
   "metadata": {
    "collapsed": false
   },
   "outputs": [
    {
     "data": {
      "text/plain": [
       "array([ 2.00301057,  2.0548922 ,  2.13893867,  2.10905422,  1.88334975,\n",
       "        1.53645457,  1.22595916,  1.05418144,  1.00468328])"
      ]
     },
     "execution_count": 49,
     "metadata": {},
     "output_type": "execute_result"
    }
   ],
   "source": [
    "sum(pf,1)"
   ]
  },
  {
   "cell_type": "code",
   "execution_count": 50,
   "metadata": {
    "collapsed": false
   },
   "outputs": [],
   "source": [
    "#simulate even data\n",
    "def simulate_data(lambda_sim,N_sim,n_sim):\n",
    "    \n",
    "    trial = np.random.poisson(lambda_sim,[N_sim*100]) #workaround to avoid drawing from ZTP\n",
    "    trial = trial[trial>0] #only take participants with Robs>0\n",
    "    true_trial = trial[0:N_sim] #just use the sims that matter\n",
    "    \n",
    "    Robs=np.zeros(10) #Robs up to max value, 10 strains for example\n",
    "    \n",
    "    #loop through patients\n",
    "    for i in range(len(true_trial)):\n",
    "        R=true_trial[i]\n",
    "        p_j=[1/R]*R\n",
    "        \n",
    "        samples = np.random.multinomial(n_sim,p_j)   \n",
    "        \n",
    "        #Robs[len(np.unique(samples))]+=1 #add a count to the histogram\n",
    "        Robs[sum(samples>0)-1]+=1 #add a count to the histogram\n",
    "    \n",
    "    return Robs\n",
    "\n",
    "#function that computes the likelihood of the data given lambda\n",
    "def likelihood(counts,lam,n):\n",
    "    r=np.arange(1,len(counts)+1) #truncate the possible maximum richness with the data\n",
    "    C=sum(dist_product(n,r,lam)) #the marginal\n",
    "    Lik=C/np.sum(C) #the conditional probability we want\n",
    "    \n",
    "    #print(np.log(Lik))\n",
    "    logLik = np.nansum(counts*np.log(Lik)) #compute the log likelihood given data and probabilty\n",
    "    \n",
    "    return logLik\n",
    "\n",
    "#compute the maximum of the likelihood\n",
    "def max_likelihood(lam_list,counts,n):\n",
    "    L_list=np.zeros(len(lam_list))\n",
    "    linx=0\n",
    "    for i in range(len(lam_list)):\n",
    "        L_list[i]=likelihood(counts,lam_list[i],n)        \n",
    "    maxL_index=np.argsort(L_list)[-1]\n",
    "    \n",
    "    maxL=L_list[maxL_index]\n",
    "    max_lam=lam_list[maxL_index]\n",
    "    return L_list,max_lam,maxL\n"
   ]
  },
  {
   "cell_type": "code",
   "execution_count": 51,
   "metadata": {
    "collapsed": false
   },
   "outputs": [
    {
     "data": {
      "text/plain": [
       "<matplotlib.legend.Legend at 0x1065c8780>"
      ]
     },
     "execution_count": 51,
     "metadata": {},
     "output_type": "execute_result"
    },
    {
     "data": {
      "image/png": "[encoded data removed]",
      "text/plain": [
       "<matplotlib.figure.Figure at 0x1073be438>"
      ]
     },
     "metadata": {},
     "output_type": "display_data"
    }
   ],
   "source": [
    "#check simulated data:\n",
    "lam=1\n",
    "N=10000\n",
    "n=100\n",
    "\n",
    "dat = simulate_data(lam,N,n)\n",
    "\n",
    "r=np.arange(1,len(dat)+1) #list of richnesses we can observe\n",
    "\n",
    "p_ztp=[]\n",
    "for R in r:\n",
    "    p_ztp.append(ztp(R,lam))\n",
    "\n",
    "plt.scatter(r,dat/N)\n",
    "plt.plot(r,p_ztp)\n",
    "plt.xlabel('observed richness')\n",
    "plt.ylabel('probability of \\n observed richness')\n",
    "\n",
    "plt.legend(['sim','theory'])\n"
   ]
  },
  {
   "cell_type": "code",
   "execution_count": 52,
   "metadata": {
    "collapsed": false
   },
   "outputs": [
    {
     "name": "stdout",
     "output_type": "stream",
     "text": [
      "1 1.00230754828 1.4932\n"
     ]
    },
    {
     "name": "stderr",
     "output_type": "stream",
     "text": [
      "/Users/danielreeves/anaconda/lib/python3.5/site-packages/ipykernel/__main__.py:29: RuntimeWarning: divide by zero encountered in log\n",
      "/Users/danielreeves/anaconda/lib/python3.5/site-packages/ipykernel/__main__.py:29: RuntimeWarning: invalid value encountered in multiply\n"
     ]
    },
    {
     "data": {
      "image/png": "[encoded data removed]",
      "text/plain": [
       "<matplotlib.figure.Figure at 0x108c10828>"
      ]
     },
     "metadata": {},
     "output_type": "display_data"
    }
   ],
   "source": [
    "#even example\n",
    "lam=1\n",
    "N=10000\n",
    "n=5\n",
    "\n",
    "counts = simulate_data(lam,N,n)\n",
    "\n",
    "r=np.arange(1,len(counts)+1)\n",
    "p_ztp=[]\n",
    "for R in r:\n",
    "    p_ztp.append(ztp(R,lam)*N)\n",
    "\n",
    "naive= sum(counts*r)/sum(counts)\n",
    "#counts=np.array([400.,32.,2.])\n",
    "\n",
    "lam_list=np.logspace(-1,1,1000)\n",
    "\n",
    "L_list,max_lam,maxL = max_likelihood(lam_list,counts,n)\n",
    "\n",
    "print(lam,max_lam,naive)\n",
    "\n",
    "plt.figure(figsize=(10,6))\n",
    "\n",
    "plt.subplot(121)\n",
    "plt.bar(np.arange(1,len(counts)+1)-0.25,counts,width=0.5)\n",
    "#plt.plot(r,p_ztp)\n",
    "plt.xticks(np.arange(1,len(counts)+1))\n",
    "plt.xlabel('$R^{obs}$')\n",
    "plt.ylabel('$N(R^{obs})$')\n",
    "plt.title('$\\lambda=$'+str(lam)+', $n=$'+str(n)+', $N=$'+str(N), fontsize=8)\n",
    "plt.legend(['distribution','samples'],fontsize=8)\n",
    "\n",
    "plt.subplot(222)\n",
    "plt.semilogx(lam_list,L_list)\n",
    "plt.axvline(max_lam,color='k',ls='--')\n",
    "plt.axhline(maxL-2,color='k',ls='--')\n",
    "plt.xlabel('ZTP parameter ($\\lambda$)')\n",
    "plt.ylabel('log likelihood ($\\log \\mathcal{L}$)')\n",
    "\n",
    "CI = lam_list[np.argwhere(np.diff(np.sign(L_list - maxL + 2)) != 0).reshape(-1)]\n",
    "\n",
    "plt.subplot(224)\n",
    "plt.plot(lam_list,L_list)\n",
    "plt.axvline(max_lam,color='k',ls='--')\n",
    "plt.ylim([maxL-2,maxL+2])\n",
    "#plt.axhline(maxL-2,color='k',ls='--')\n",
    "plt.xlabel('ZTP parameter ($\\lambda$)')\n",
    "plt.ylabel('log likelihood ($\\log \\mathcal{L}$)')\n",
    "plt.title('$\\lambda^*=$'+str(np.round(max_lam,2))+' '+str(np.round(CI,2).tolist()), fontsize=8)#,[max_lam+0.25,maxL])\n",
    "plt.legend(['zoom'],fontsize=8)\n",
    "\n",
    "plt.tight_layout()\n",
    "\n"
   ]
  },
  {
   "cell_type": "code",
   "execution_count": 53,
   "metadata": {
    "collapsed": true
   },
   "outputs": [],
   "source": [
    "import time\n",
    "\n",
    "def check_precision(lam,N,n,num_sims):\n",
    "    t1=time.time()\n",
    "    \n",
    "    lik=[]\n",
    "    count_list=[]\n",
    "    lam_list=np.logspace(-1,1,1000)\n",
    "    for i in range(num_sims):\n",
    "        counts=simulate_data(lam,N,n)[1:]\n",
    "        count_list.append(counts)\n",
    "        L_list,max_lam,maxL = max_likelihood(lam_list,counts,n)\n",
    "        \n",
    "        lik.append(ztp_avg(max_lam))\n",
    "    \n",
    "    elapsed_time=time.time()-t1\n",
    "    \n",
    "    return lik,elapsed_time,count_list"
   ]
  },
  {
   "cell_type": "code",
   "execution_count": 54,
   "metadata": {
    "collapsed": false
   },
   "outputs": [
    {
     "name": "stdout",
     "output_type": "stream",
     "text": [
      "time elapsed=  17.37297487258911 s\n",
      "error from sim?\n",
      "0.139625071191\n",
      "error from bayesian inference?\n",
      "0.0259846767381\n"
     ]
    },
    {
     "name": "stderr",
     "output_type": "stream",
     "text": [
      "/Users/danielreeves/anaconda/lib/python3.5/site-packages/ipykernel/__main__.py:29: RuntimeWarning: divide by zero encountered in log\n",
      "/Users/danielreeves/anaconda/lib/python3.5/site-packages/ipykernel/__main__.py:29: RuntimeWarning: invalid value encountered in multiply\n"
     ]
    },
    {
     "data": {
      "image/png": "[encoded data removed]",
      "text/plain": [
       "<matplotlib.figure.Figure at 0x10707b390>"
      ]
     },
     "metadata": {},
     "output_type": "display_data"
    }
   ],
   "source": [
    "#try to check the precision of estimates based on the simulation vs the inference\n",
    "preciz,et,count_list=check_precision(1,500,3,num_sims=40)\n",
    "print('time elapsed= ',et,'s')\n",
    "plt.boxplot(preciz)\n",
    "\n",
    "mu=np.mean(count_list,0)\n",
    "sig=np.std(count_list,0)\n",
    "print('error from sim?')\n",
    "print(np.average(sig[sig>0]/mu[mu>0]))\n",
    "print('error from bayesian inference?')\n",
    "print(np.std(preciz)/np.mean(preciz))"
   ]
  },
  {
   "cell_type": "code",
   "execution_count": null,
   "metadata": {
    "collapsed": true
   },
   "outputs": [],
   "source": [
    "def compare_methods():\n",
    "    r=np.arange(1,11)\n",
    "    lam_list=np.logspace(-1,1,1000)\n",
    "\n",
    "    lik=[]\n",
    "    naive=[]\n",
    "    actual=[]\n",
    "    varz=[]\n",
    "    for lam in np.linspace(0.5,3,10):\n",
    "        for N in np.round(np.logspace(2,5,10)):\n",
    "            for n in np.arange(2,6):\n",
    "                \n",
    "                varz.append([lam,N,n])\n",
    "                \n",
    "                counts=simulate_data(lam,N,n)\n",
    "                \n",
    "                actual.append(ztp_avg(lam))\n",
    "\n",
    "                naive.append(sum(counts*r)/sum(counts))\n",
    "\n",
    "                L_list,max_lam,maxL = max_likelihood(lam_list,counts,n)\n",
    "\n",
    "                lik.append(ztp_avg(max_lam))\n",
    "    \n",
    "    return lik,naive,actual,varz"
   ]
  },
  {
   "cell_type": "code",
   "execution_count": null,
   "metadata": {
    "collapsed": false
   },
   "outputs": [],
   "source": [
    "#run the comparison\n",
    "t1=time.time()\n",
    "lik,naive,actual,varz = compare_methods()\n",
    "print(time.time()-t1)\n",
    "\n",
    "#compute several other things we want\n",
    "varz=np.array(varz)\n",
    "naive_error=np.array(naive)-np.array(actual)\n",
    "bayes_error=np.array(lik)-np.array(actual)\n",
    "naive_pct_error=naive_error/np.array(actual)*100\n",
    "bayes_pct_error=bayes_error/np.array(actual)*100\n",
    "naive_pct_bias=np.abs(naive_error)/np.array(actual)*100\n",
    "bayes_pct_bias=np.abs(bayes_error)/np.array(actual)*100\n"
   ]
  },
  {
   "cell_type": "code",
   "execution_count": null,
   "metadata": {
    "collapsed": false
   },
   "outputs": [],
   "source": [
    "rez=600\n",
    "\n",
    "plt.figure(figsize=(5,5),dpi=rez)\n",
    "plt.scatter(actual,naive,color='coral',alpha=0.2,s=30)\n",
    "plt.scatter(actual,lik,color='teal',alpha=0.2,s=30)\n",
    "plt.ylim([1,5])\n",
    "plt.xlim([1,4])\n",
    "plt.xlabel('true average richness')\n",
    "plt.ylabel('estimated average richness')\n",
    "plt.legend(['naive','Bayesian'],fontsize=8,loc=2)\n",
    "plt.xticks(range(1,5))\n",
    "plt.yticks(range(1,5))\n",
    "x=np.linspace(0,6,100)\n",
    "plt.plot(x,x,color='k',ls='--')\n",
    "\n",
    "plt.savefig('figures/even_avgR_vs_trueR.pdf')\n",
    "#could put error bars on this!!"
   ]
  },
  {
   "cell_type": "code",
   "execution_count": null,
   "metadata": {
    "collapsed": false
   },
   "outputs": [],
   "source": [
    "#error plots\n",
    "\n",
    "plt.figure(figsize=(10,3),dpi=rez)\n",
    "\n",
    "plt.subplot(131)\n",
    "plt.scatter(np.log10(varz[:,1])+np.random.normal(0,0.05,len(actual)),naive_pct_error,color='coral',alpha=0.2,s=30)\n",
    "plt.scatter(np.log10(varz[:,1])+np.random.normal(0,0.05,len(actual)),bayes_pct_error,color='teal',alpha=0.2,s=30)\n",
    "plt.ylim([-50,50])\n",
    "plt.xlim([1.8,5.2])\n",
    "plt.xlabel('log10 number participants')\n",
    "plt.ylabel('pct error')\n",
    "plt.axhline(0,color='k',ls='--')\n",
    "plt.xticks(range(2,6))\n",
    "\n",
    "plt.subplot(132)\n",
    "plt.scatter(varz[:,2]+np.random.normal(0,0.1,len(actual)),naive_pct_error,color='coral',alpha=0.2,s=30)\n",
    "plt.scatter(varz[:,2]+np.random.normal(0,0.1,len(actual)),bayes_pct_error,color='teal',alpha=0.2,s=30)\n",
    "plt.ylim([-50,50])\n",
    "plt.xlim([1.5,5.5])\n",
    "plt.xlabel('number samples')\n",
    "plt.axhline(0,color='k',ls='--')\n",
    "plt.xticks(range(2,6))\n",
    "\n",
    "plt.subplot(133)\n",
    "plt.scatter(varz[:,0]+np.random.normal(0,0.1,len(actual)),naive_pct_error,color='coral',alpha=0.2,s=30)\n",
    "plt.scatter(varz[:,0]+np.random.normal(0,0.1,len(actual)),bayes_pct_error,color='teal',alpha=0.2,s=30)\n",
    "plt.ylim([-50,50])\n",
    "plt.xlim([0,3.5])\n",
    "plt.xlabel('true richness')\n",
    "plt.xticks(range(0,4))\n",
    "plt.legend(['naive','Bayesian'],fontsize=8,loc=2)\n",
    "plt.axhline(0,color='k',ls='--')\n",
    "\n",
    "plt.tight_layout()\n",
    "plt.savefig('figures/even_errors.pdf')\n",
    "\n",
    "#could put error bars on this!!"
   ]
  },
  {
   "cell_type": "code",
   "execution_count": null,
   "metadata": {
    "collapsed": false
   },
   "outputs": [],
   "source": [
    "#error plot with a combined variable?\n",
    "\n",
    "plt.figure(figsize=(4,3),dpi=rez)\n",
    "\n",
    "plt.scatter(np.log10(varz[:,1]*varz[:,2]/varz[:,0])+np.random.normal(0,0.05,len(actual)),naive_pct_error,color='coral',alpha=0.2,s=30)\n",
    "plt.scatter(np.log10(varz[:,1]*varz[:,2]/varz[:,0])+np.random.normal(0,0.05,len(actual)),bayes_pct_error,color='teal',alpha=0.2,s=30)\n",
    "plt.ylim([-50,50])\n",
    "#plt.xlim([2,6])\n",
    "plt.xlabel('$\\log_{10} Nn/\\lambda$')\n",
    "plt.ylabel('pct error')\n",
    "plt.axhline(0,color='k',ls='--')\n",
    "\n",
    "plt.tight_layout()\n",
    "plt.savefig('figures/even_varcombo.pdf')\n",
    "\n",
    "#could put error bars on this!!"
   ]
  },
  {
   "cell_type": "code",
   "execution_count": null,
   "metadata": {
    "collapsed": false
   },
   "outputs": [],
   "source": [
    "#percent error combined plots N vs n\n",
    "\n",
    "fig,axarr=plt.subplots(1,2,sharey=True,sharex=True,figsize=(7,3),dpi=rez)\n",
    "\n",
    "normalize=mcolors.Normalize(-15,15)\n",
    "colormap=cm.jet\n",
    "\n",
    "axarr[0].scatter(np.log10(varz[:,1])+np.random.normal(0,0.1,len(lik)),varz[:,2]+np.random.normal(0,0.1,len(lik)),\n",
    "            color=colormap(normalize(naive_pct_error)),alpha=0.7,s=20)\n",
    "axarr[0].set_xlabel('log10 number of participants')\n",
    "axarr[0].set_ylabel('number of samples')\n",
    "#plt.legend(['naive','likelihood'],fontsize=8,loc=2)\n",
    "axarr[0].set_xticks(range(2,6))\n",
    "axarr[0].set_yticks(range(2,6))\n",
    "axarr[0].set_title('naive estimate')\n",
    "\n",
    "axarr[1].scatter(np.log10(varz[:,1])+np.random.normal(0,0.1,len(lik)),varz[:,2]+np.random.normal(0,0.1,len(lik)),\n",
    "            color=colormap(normalize(bayes_pct_error)),alpha=0.7,s=20)\n",
    "axarr[1].set_xlabel('log10 number of participants')\n",
    "\n",
    "plt.tight_layout()\n",
    "\n",
    "# setup the colorbar\n",
    "scalarmappaple=cm.ScalarMappable(norm=normalize, cmap=colormap)\n",
    "scalarmappaple.set_array(range(-50,50))\n",
    "cbar=plt.colorbar(scalarmappaple,ax=axarr.ravel().tolist())\n",
    "#cbar.set_ticks(nlist) # add the labels\n",
    "#cbar.set_ticklabels(nlist) # add the labels\n",
    "cbar.set_label('pct error',fontsize=10)\n",
    "axarr[1].set_title('Bayesian estimate')\n",
    "\n",
    "plt.savefig('figures/even_error_N_vs_n.pdf')\n"
   ]
  },
  {
   "cell_type": "code",
   "execution_count": null,
   "metadata": {
    "collapsed": false
   },
   "outputs": [],
   "source": [
    "#percent error combined plots R vs n\n",
    "\n",
    "fig,axarr=plt.subplots(1,2,sharey=True,sharex=True,figsize=(7,3),dpi=rez)\n",
    "\n",
    "normalize=mcolors.Normalize(-15,15)\n",
    "\n",
    "axarr[0].scatter(varz[:,0]+np.random.normal(0,0.1,len(lik)),varz[:,2]+np.random.normal(0,0.1,len(lik)),\n",
    "            color=colormap(normalize(naive_pct_error)),alpha=0.7,s=20)\n",
    "axarr[0].set_ylabel('number of samples')\n",
    "axarr[0].set_xlabel('true richness')\n",
    "#plt.legend(['naive','likelihood'],fontsize=8,loc=2)\n",
    "axarr[0].set_xticks(range(0,4))\n",
    "axarr[0].set_yticks(range(2,6))\n",
    "axarr[0].set_title('naive estimate')\n",
    "\n",
    "axarr[1].scatter(varz[:,0]+np.random.normal(0,0.1,len(lik)),varz[:,2]+np.random.normal(0,0.1,len(lik)),\n",
    "            color=colormap(normalize(bayes_pct_error)),alpha=0.7,s=20)\n",
    "axarr[1].set_xlabel('true richness')\n",
    "\n",
    "plt.tight_layout()\n",
    "\n",
    "# setup the colorbar\n",
    "scalarmappaple=cm.ScalarMappable(norm=normalize, cmap=colormap)\n",
    "scalarmappaple.set_array(range(-15,15))\n",
    "cbar=plt.colorbar(scalarmappaple,ax=axarr.ravel().tolist())\n",
    "cbar.set_label('pct error',fontsize=10)\n",
    "axarr[1].set_title('Bayesian estimate')\n",
    "\n",
    "plt.savefig('figures/even_error_R_vs_n.pdf')\n"
   ]
  },
  {
   "cell_type": "code",
   "execution_count": null,
   "metadata": {
    "collapsed": false
   },
   "outputs": [],
   "source": [
    "#percent error combined plots N vs R\n",
    "\n",
    "fig,axarr=plt.subplots(1,2,sharey=True,sharex=True,figsize=(7,3),dpi=rez)\n",
    "\n",
    "normalize=mcolors.Normalize(-15,15)\n",
    "\n",
    "axarr[0].scatter(np.log10(varz[:,1])+np.random.normal(0,0.1,len(lik)),varz[:,0]+np.random.normal(0,0.1,len(lik)),\n",
    "            color=colormap(normalize(naive_pct_error)),alpha=0.7,s=20)\n",
    "axarr[0].set_xlabel('log10 number of participants')\n",
    "axarr[0].set_ylabel('true richness')\n",
    "#plt.legend(['naive','likelihood'],fontsize=8,loc=2)\n",
    "axarr[0].set_xticks(range(2,6))\n",
    "axarr[0].set_yticks(range(0,4))\n",
    "axarr[0].set_title('naive estimate')\n",
    "\n",
    "axarr[1].scatter(np.log10(varz[:,1])+np.random.normal(0,0.1,len(lik)),varz[:,0]+np.random.normal(0,0.1,len(lik)),\n",
    "            color=colormap(normalize(bayes_pct_error)),alpha=0.7,s=20)\n",
    "axarr[1].set_xlabel('log10 number of participants')\n",
    "\n",
    "plt.tight_layout()\n",
    "\n",
    "# setup the colorbar\n",
    "scalarmappaple=cm.ScalarMappable(norm=normalize, cmap=colormap)\n",
    "scalarmappaple.set_array(range(-50,50))\n",
    "cbar=plt.colorbar(scalarmappaple,ax=axarr.ravel().tolist())\n",
    "#cbar.set_ticks(nlist) # add the labels\n",
    "#cbar.set_ticklabels(nlist) # add the labels\n",
    "cbar.set_label('pct error',fontsize=10)\n",
    "axarr[1].set_title('Bayesian estimate')\n",
    "\n",
    "plt.savefig('figures/even_error_N_vs_R.pdf')\n",
    "\n"
   ]
  },
  {
   "cell_type": "code",
   "execution_count": null,
   "metadata": {
    "collapsed": true
   },
   "outputs": [],
   "source": []
  }
 ],
 "metadata": {
  "kernelspec": {
   "display_name": "Python 3",
   "language": "python",
   "name": "python3"
  },
  "language_info": {
   "codemirror_mode": {
    "name": "ipython",
    "version": 3
   },
   "file_extension": ".py",
   "mimetype": "text/x-python",
   "name": "python",
   "nbconvert_exporter": "python",
   "pygments_lexer": "ipython3",
   "version": "3.5.1"
  }
 },
 "nbformat": 4,
 "nbformat_minor": 0
}
